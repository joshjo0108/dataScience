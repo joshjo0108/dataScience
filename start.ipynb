{
 "cells": [
  {
   "cell_type": "code",
   "execution_count": 1,
   "metadata": {},
   "outputs": [
    {
     "name": "stderr",
     "output_type": "stream",
     "text": [
      "/var/folders/_m/gf9l7jpn7056prxt262xf95r0000gn/T/ipykernel_3477/122571495.py:3: MatplotlibDeprecationWarning: The seaborn styles shipped by Matplotlib are deprecated since 3.6, as they no longer correspond to the styles shipped by seaborn. However, they will remain available as 'seaborn-v0_8-<style>'. Alternatively, directly use the seaborn API instead.\n",
      "  plt.style.use(['seaborn-whitegrid'])\n"
     ]
    }
   ],
   "source": [
    "import numpy as np\n",
    "import matplotlib.pyplot as plt\n",
    "plt.style.use(['seaborn-whitegrid'])"
   ]
  },
  {
   "cell_type": "code",
   "execution_count": 3,
   "metadata": {},
   "outputs": [
    {
     "data": {
      "text/plain": [
       "<matplotlib.collections.PathCollection at 0x7fec2932bf10>"
      ]
     },
     "execution_count": 3,
     "metadata": {},
     "output_type": "execute_result"
    },
    {
     "data": {
      "image/png": "[encoded data removed]",
      "text/plain": [
       "<Figure size 640x480 with 1 Axes>"
      ]
     },
     "metadata": {},
     "output_type": "display_data"
    }
   ],
   "source": [
    "x = 10 * np.random.rand(50)\n",
    "y = 2 * x + np.random.rand(50)\n",
    "plt.scatter(x,y)"
   ]
  },
  {
   "cell_type": "code",
   "execution_count": 5,
   "metadata": {},
   "outputs": [],
   "source": [
    "# 1. Import adequate estimator model\n",
    "from sklearn.linear_model import LinearRegression"
   ]
  },
  {
   "cell_type": "code",
   "execution_count": 10,
   "metadata": {},
   "outputs": [
    {
     "data": {
      "text/plain": [
       "LinearRegression()"
      ]
     },
     "execution_count": 10,
     "metadata": {},
     "output_type": "execute_result"
    }
   ],
   "source": [
    "# 2. Generate an instance & give hyperparameters <- fit_intercept\n",
    "model = LinearRegression(fit_intercept=True)\n",
    "# Default -> LinearRegression(copy_X=True, fit_intercept=True, n_jobs=None, normalize=False)\n",
    "model"
   ]
  },
  {
   "cell_type": "code",
   "execution_count": 16,
   "metadata": {},
   "outputs": [
    {
     "data": {
      "text/plain": [
       "array([[3.32787728],\n",
       "       [7.71574483],\n",
       "       [6.92382741],\n",
       "       [6.38838928],\n",
       "       [4.45181912],\n",
       "       [9.55961862],\n",
       "       [6.64889355],\n",
       "       [7.13984124],\n",
       "       [8.30112366],\n",
       "       [0.03992089],\n",
       "       [2.69428754],\n",
       "       [6.1283111 ],\n",
       "       [7.94818245],\n",
       "       [8.58313824],\n",
       "       [3.4804982 ],\n",
       "       [6.54542417],\n",
       "       [1.89187842],\n",
       "       [9.22598179],\n",
       "       [5.18968492],\n",
       "       [6.04610624],\n",
       "       [8.98724475],\n",
       "       [6.32926739],\n",
       "       [2.0578953 ],\n",
       "       [0.21948764],\n",
       "       [3.43904065],\n",
       "       [7.30379055],\n",
       "       [1.07335535],\n",
       "       [0.76220537],\n",
       "       [5.65277724],\n",
       "       [4.86242732],\n",
       "       [8.91371441],\n",
       "       [4.34595868],\n",
       "       [7.8839473 ],\n",
       "       [2.86515281],\n",
       "       [3.81884669],\n",
       "       [0.77570742],\n",
       "       [9.14358045],\n",
       "       [8.8246754 ],\n",
       "       [5.42067909],\n",
       "       [7.36307509],\n",
       "       [3.25328294],\n",
       "       [4.47217518],\n",
       "       [6.6229472 ],\n",
       "       [3.26282982],\n",
       "       [7.9482389 ],\n",
       "       [9.29690636],\n",
       "       [2.18676276],\n",
       "       [0.92763291],\n",
       "       [0.29482987],\n",
       "       [9.24975374]])"
      ]
     },
     "execution_count": 16,
     "metadata": {},
     "output_type": "execute_result"
    }
   ],
   "source": [
    "# 3. Divid the data into Target & Features\n",
    "# Make into 2D\n",
    "X = x[:, np.newaxis]\n",
    "X"
   ]
  },
  {
   "cell_type": "code",
   "execution_count": null,
   "metadata": {},
   "outputs": [],
   "source": [
    "# 4. "
   ]
  }
 ],
 "metadata": {
  "kernelspec": {
   "display_name": "Python 3 (ipykernel)",
   "language": "python",
   "name": "python3"
  },
  "language_info": {
   "codemirror_mode": {
    "name": "ipython",
    "version": 3
   },
   "file_extension": ".py",
   "mimetype": "text/x-python",
   "name": "python",
   "nbconvert_exporter": "python",
   "pygments_lexer": "ipython3",
   "version": "3.9.12"
  }
 },
 "nbformat": 4,
 "nbformat_minor": 4
}
