{
 "cells": [
  {
   "cell_type": "markdown",
   "id": "1420b554-2a2a-4f5b-83b6-fb27c9968527",
   "metadata": {},
   "source": [
    "## Setup"
   ]
  },
  {
   "cell_type": "code",
   "execution_count": 1,
   "id": "010c91a8-d1aa-4368-be65-5a65a15814de",
   "metadata": {},
   "outputs": [],
   "source": [
    "# Python ≥3.5 is required\n",
    "import sys\n",
    "assert sys.version_info >= (3, 5)\n",
    "\n",
    "# Is this notebook running on Colab or Kaggle?\n",
    "IS_COLAB = \"google.colab\" in sys.modules\n",
    "IS_KAGGLE = \"kaggle_secrets\" in sys.modules\n",
    "\n",
    "# Scikit-Learn ≥0.20 is required\n",
    "import sklearn\n",
    "assert sklearn.__version__ >= \"0.20\"\n",
    "\n",
    "# Common imports\n",
    "import numpy as np\n",
    "import os\n",
    "\n",
    "# to make this notebook's output stable across runs\n",
    "np.random.seed(42)\n",
    "\n",
    "# To plot pretty figures\n",
    "%matplotlib inline\n",
    "import matplotlib as mpl\n",
    "import matplotlib.pyplot as plt\n",
    "mpl.rc('axes', labelsize=14)\n",
    "mpl.rc('xtick', labelsize=12)\n",
    "mpl.rc('ytick', labelsize=12)\n",
    "\n",
    "# Where to save the figures\n",
    "PROJECT_ROOT_DIR = \".\"\n",
    "CHAPTER_ID = \"classification\"\n",
    "IMAGES_PATH = os.path.join(PROJECT_ROOT_DIR, \"images\", CHAPTER_ID)\n",
    "os.makedirs(IMAGES_PATH, exist_ok=True)\n",
    "\n",
    "def save_fig(fig_id, tight_layout=True, fig_extension=\"png\", resolution=300):\n",
    "    path = os.path.join(IMAGES_PATH, fig_id + \".\" + fig_extension)\n",
    "    print(\"Saving figure\", fig_id)\n",
    "    if tight_layout:\n",
    "        plt.tight_layout()\n",
    "    plt.savefig(path, format=fig_extension, dpi=resolution)"
   ]
  },
  {
   "cell_type": "markdown",
   "id": "41fa6bab-b11c-4839-b934-1451cd62b38d",
   "metadata": {},
   "source": [
    "## MNIST (\"Modified National Institute of Standards and Technology\") dataset "
   ]
  },
  {
   "cell_type": "code",
   "execution_count": 7,
   "id": "2c42fe88-6347-4edc-8ff2-20756fd1fd05",
   "metadata": {},
   "outputs": [
    {
     "data": {
      "text/plain": [
       "dict_keys(['data', 'target', 'frame', 'categories', 'feature_names', 'target_names', 'DESCR', 'details', 'url'])"
      ]
     },
     "execution_count": 7,
     "metadata": {},
     "output_type": "execute_result"
    }
   ],
   "source": [
    "from sklearn.datasets import fetch_openml\n",
    "\n",
    "# fetch_openml() returns a Pandas DataFrame by default. \n",
    "# To avoid this and keep the same code as in the book, we use as_frame=False.\n",
    "    # the data is returned as a NumPy array,\n",
    "\n",
    "# 'mnist_784' is the name of the dataset to download\n",
    "mnist = fetch_openml('mnist_784', version=1, as_frame=False)\n",
    "mnist.keys()"
   ]
  },
  {
   "cell_type": "code",
   "execution_count": 4,
   "id": "4cfab9dc-e3be-4e8c-a484-a54a74b857ff",
   "metadata": {},
   "outputs": [
    {
     "data": {
      "text/plain": [
       "(70000, 784)"
      ]
     },
     "execution_count": 4,
     "metadata": {},
     "output_type": "execute_result"
    }
   ],
   "source": [
    "X, y = mnist[\"data\"], mnist[\"target\"]\n",
    "X.shape"
   ]
  },
  {
   "cell_type": "code",
   "execution_count": 5,
   "id": "7172eed8-7924-4de0-8304-458322350f3c",
   "metadata": {},
   "outputs": [
    {
     "data": {
      "text/plain": [
       "(70000,)"
      ]
     },
     "execution_count": 5,
     "metadata": {},
     "output_type": "execute_result"
    }
   ],
   "source": [
    "y.shape"
   ]
  },
  {
   "cell_type": "code",
   "execution_count": 8,
   "id": "c7fef038-dea6-4be0-a995-bf93bd2f3b3e",
   "metadata": {},
   "outputs": [
    {
     "data": {
      "text/plain": [
       "784"
      ]
     },
     "execution_count": 8,
     "metadata": {},
     "output_type": "execute_result"
    }
   ],
   "source": [
    "28 * 28"
   ]
  },
  {
   "cell_type": "code",
   "execution_count": 10,
   "id": "0b65f88d-4732-4979-b2f1-f32867713656",
   "metadata": {},
   "outputs": [
    {
     "name": "stdout",
     "output_type": "stream",
     "text": [
      "Saving figure some_digit_plot\n"
     ]
    },
    {
     "data": {
      "image/png": "[encoded data removed]",
      "text/plain": [
       "<Figure size 640x480 with 1 Axes>"
      ]
     },
     "metadata": {},
     "output_type": "display_data"
    }
   ],
   "source": [
    "%matplotlib inline\n",
    "import matplotlib as mpl\n",
    "import matplotlib.pyplot as plt\n",
    "\n",
    "'''\n",
    "- X contains a NumPy array with 70,000 rows (one for each image) and 784 columns (one for each pixel). \n",
    "- By selecting the first row of X with X[0], we get the pixel values of the first digit in the dataset.\n",
    "'''\n",
    "some_digit = X[0]\n",
    "# This line reshapes the array into a 2D array with dimensions 28x28, which corresponds to the original dimensions of the digit image.\n",
    "some_digit_image = some_digit.reshape(28, 28)\n",
    "'''\n",
    "- Matplotlib library to display the digit image\n",
    "- cmap=mpl.cm.binary is used to specify that the colormap should be black and white \n",
    "    - (with black representing low pixel values and white representing high pixel values).\n",
    "'''\n",
    "plt.imshow(some_digit_image, cmap=mpl.cm.binary)\n",
    "plt.axis(\"off\")\n",
    "\n",
    "save_fig(\"some_digit_plot\")\n",
    "plt.show()"
   ]
  },
  {
   "cell_type": "code",
   "execution_count": 12,
   "id": "3f503eec-297c-4739-9522-a4ccdce489fb",
   "metadata": {},
   "outputs": [
    {
     "data": {
      "text/plain": [
       "'5'"
      ]
     },
     "execution_count": 12,
     "metadata": {},
     "output_type": "execute_result"
    }
   ],
   "source": [
    "# The target value\n",
    "y[0]"
   ]
  },
  {
   "cell_type": "code",
   "execution_count": 14,
   "id": "6a7a535c-ec1c-485f-9b3f-266da437e47e",
   "metadata": {},
   "outputs": [],
   "source": [
    "y = y.astype(np.uint8)"
   ]
  },
  {
   "cell_type": "code",
   "execution_count": 15,
   "id": "ddedfa49-cbf3-437d-b337-98e550c7328f",
   "metadata": {},
   "outputs": [],
   "source": [
    "def plot_digit(data):\n",
    "    image = data.reshape(28, 28)\n",
    "    plt.imshow(image, cmap = mpl.cm.binary,\n",
    "               interpolation=\"nearest\")\n",
    "    plt.axis(\"off\")"
   ]
  },
  {
   "cell_type": "code",
   "execution_count": 16,
   "id": "cf1c7e4f-2e2a-4348-b61d-e5c068b7c8fa",
   "metadata": {},
   "outputs": [],
   "source": [
    "# Big Image\n",
    "def plot_digits(instances, images_per_row=10, **options):\n",
    "    size = 28\n",
    "    images_per_row = min(len(instances), images_per_row)\n",
    "    # This is equivalent to n_rows = ceil(len(instances) / images_per_row):\n",
    "    n_rows = (len(instances) - 1) // images_per_row + 1\n",
    "\n",
    "    # Append empty images to fill the end of the grid, if needed:\n",
    "    n_empty = n_rows * images_per_row - len(instances)\n",
    "    padded_instances = np.concatenate([instances, np.zeros((n_empty, size * size))], axis=0)\n",
    "\n",
    "    # Reshape the array so it's organized as a grid containing 28×28 images:\n",
    "    image_grid = padded_instances.reshape((n_rows, images_per_row, size, size))\n",
    "\n",
    "    # Combine axes 0 and 2 (vertical image grid axis, and vertical image axis),\n",
    "    # and axes 1 and 3 (horizontal axes). We first need to move the axes that we\n",
    "    # want to combine next to each other, using transpose(), and only then we\n",
    "    # can reshape:\n",
    "    big_image = image_grid.transpose(0, 2, 1, 3).reshape(n_rows * size,\n",
    "                                                         images_per_row * size)\n",
    "    # Now that we have a big image, we just need to show it:\n",
    "    plt.imshow(big_image, cmap = mpl.cm.binary, **options)\n",
    "    plt.axis(\"off\")"
   ]
  },
  {
   "cell_type": "code",
   "execution_count": 17,
   "id": "5f447533-202e-4a18-a816-8c8ead2ad9ec",
   "metadata": {},
   "outputs": [
    {
     "name": "stdout",
     "output_type": "stream",
     "text": [
      "Saving figure more_digits_plot\n"
     ]
    },
    {
     "data": {
      "image/png": "[encoded data removed]",
      "text/plain": [
       "<Figure size 900x900 with 1 Axes>"
      ]
     },
     "metadata": {},
     "output_type": "display_data"
    }
   ],
   "source": [
    "# Plot big image\n",
    "plt.figure(figsize=(9,9))\n",
    "# 100 images at once\n",
    "example_images = X[:100]\n",
    "plot_digits(example_images, images_per_row=10)\n",
    "save_fig(\"more_digits_plot\")\n",
    "plt.show()"
   ]
  },
  {
   "cell_type": "code",
   "execution_count": 18,
   "id": "657c20ca-2a27-4bc3-97ba-bf5f19292b27",
   "metadata": {},
   "outputs": [
    {
     "data": {
      "text/plain": [
       "5"
      ]
     },
     "execution_count": 18,
     "metadata": {},
     "output_type": "execute_result"
    }
   ],
   "source": [
    "# y = y.astype(np.uint8)\n",
    "y[0]"
   ]
  },
  {
   "cell_type": "markdown",
   "id": "36b2d75e-7ad0-474b-9901-f6c05ba5bd08",
   "metadata": {},
   "source": [
    "### Split into Train & Test Set"
   ]
  },
  {
   "cell_type": "code",
   "execution_count": 19,
   "id": "4e116af5-2c35-4fa0-9337-ef705f8f1660",
   "metadata": {},
   "outputs": [],
   "source": [
    "X_train, X_test, y_train, y_test = X[:60000], X[60000:], y[:60000], y[60000:]"
   ]
  },
  {
   "cell_type": "markdown",
   "id": "9a207ece-5fd6-4f5b-841d-0268ada70071",
   "metadata": {},
   "source": [
    "## Train a Binary Classifier"
   ]
  },
  {
   "cell_type": "code",
   "execution_count": 20,
   "id": "82e0166f-59aa-41cd-a2de-d231b41a54c7",
   "metadata": {},
   "outputs": [],
   "source": [
    "y_train_5 = (y_train == 5)\n",
    "y_test_5 = (y_test == 5)"
   ]
  },
  {
   "cell_type": "code",
   "execution_count": 21,
   "id": "087fb180-a734-4bc8-b3b8-f58668386ee4",
   "metadata": {},
   "outputs": [
    {
     "data": {
      "text/plain": [
       "SGDClassifier(random_state=42)"
      ]
     },
     "execution_count": 21,
     "metadata": {},
     "output_type": "execute_result"
    }
   ],
   "source": [
    "from sklearn.linear_model import SGDClassifier\n",
    "\n",
    "'''\n",
    "- The SGDClassifier is an implementation of the stochastic gradient descent algorithm for linear classifiers.\n",
    "- The tol parameter sets the stopping criterion for the algorithm, which is the tolerance for the change in the loss function between iterations. \n",
    "    - If the change in the loss is less than this tolerance, the algorithm will stop.\n",
    "'''\n",
    "sgd_clf = SGDClassifier(max_iter=1000, tol=1e-3, random_state=42)\n",
    "# Train the SGDClassifier Model\n",
    "sgd_clf.fit(X_train, y_train_5)"
   ]
  },
  {
   "cell_type": "code",
   "execution_count": 22,
   "id": "da6fea15-4087-4acb-85ec-6c66ae651436",
   "metadata": {},
   "outputs": [
    {
     "data": {
      "text/plain": [
       "array([ True])"
      ]
     },
     "execution_count": 22,
     "metadata": {},
     "output_type": "execute_result"
    }
   ],
   "source": [
    "sgd_clf.predict([some_digit])"
   ]
  },
  {
   "cell_type": "code",
   "execution_count": 23,
   "id": "4d85adbf-06ec-4f95-badf-92eac28aa1d3",
   "metadata": {},
   "outputs": [
    {
     "data": {
      "text/plain": [
       "array([0.95035, 0.96035, 0.9604 ])"
      ]
     },
     "execution_count": 23,
     "metadata": {},
     "output_type": "execute_result"
    }
   ],
   "source": [
    "from sklearn.model_selection import cross_val_score\n",
    "cross_val_score(sgd_clf, X_train, y_train_5, cv=3, scoring=\"accuracy\")"
   ]
  },
  {
   "cell_type": "markdown",
   "id": "f854c808-36d9-4ed3-8d62-5a12da3c1f06",
   "metadata": {},
   "source": [
    "## Performance Measure"
   ]
  },
  {
   "cell_type": "markdown",
   "id": "c065680e-9f79-47f3-9338-4348e63ce4d2",
   "metadata": {},
   "source": [
    "### Measuring Accuracy Using Cross-Validation"
   ]
  },
  {
   "cell_type": "markdown",
   "id": "39e29e04-8f64-48bf-8d79-9ba8ab22f56c",
   "metadata": {},
   "source": [
    "### (StratifiedKFold)"
   ]
  },
  {
   "cell_type": "code",
   "execution_count": 24,
   "id": "4cfcfb3e-a54c-46bd-8cf5-d9b771aebe8a",
   "metadata": {},
   "outputs": [
    {
     "name": "stdout",
     "output_type": "stream",
     "text": [
      "0.9669\n",
      "0.91625\n",
      "0.96785\n"
     ]
    }
   ],
   "source": [
    "from sklearn.model_selection import StratifiedKFold\n",
    "from sklearn.base import clone\n",
    "'''\n",
    "- The StratifiedKFold is a cross-validation technique that splits the data into n_splits number of folds while preserving \n",
    "        the percentage of samples for each class. \n",
    "- This is useful when you have imbalanced class distributions, where you want to ensure that the proportion of each class \n",
    "        is maintained in each fold.\n",
    "- The n_splits parameter sets the number of folds to create. In this case, it is set to 3, so the data will be split into three folds.\n",
    "- The shuffle parameter is set to True, which means that the data will be shuffled before the splits are made\n",
    "\n",
    "** \n",
    "    Overall, this line of code creates a cross-validation object that splits the data into folds while preserving the class proportions and \n",
    "    randomizes the order of the data before splitting. This object can be used with scikit-learn's cross_val_score function to evaluate \n",
    "    the performance of a model.\n",
    "**\n",
    "'''\n",
    "skfolds = StratifiedKFold(n_splits=3, shuffle=True, random_state=42)\n",
    "\n",
    "# generates indices to split the data into train and test sets for each fold\n",
    "for train_index, test_index in skfolds.split(X_train, y_train_5):\n",
    "    # ensure that the model is trained on the current fold and not affected by the training on previous folds.\n",
    "    clone_clf = clone(sgd_clf)\n",
    "    \n",
    "    X_train_folds = X_train[train_index]\n",
    "    y_train_folds = y_train_5[train_index]\n",
    "    X_test_fold = X_train[test_index]\n",
    "    y_test_fold = y_train_5[test_index]\n",
    "    \n",
    "    # The classifier is trained\n",
    "    clone_clf.fit(X_train_folds, y_train_folds)\n",
    "    # The classifier makes predictions on the test data\n",
    "    y_pred = clone_clf.predict(X_test_fold)\n",
    "    # The sum() function is used to count the number of correct predictions.\n",
    "    n_correct = sum(y_pred == y_test_fold)\n",
    "    print(n_correct / len(y_pred))"
   ]
  },
  {
   "cell_type": "markdown",
   "id": "26de86a7-11cb-4cb3-9614-8851a7187cf4",
   "metadata": {},
   "source": [
    "### (Never5Classifier)"
   ]
  },
  {
   "cell_type": "code",
   "execution_count": 25,
   "id": "4343df0f-c950-4f5c-adef-c08945fa314d",
   "metadata": {},
   "outputs": [],
   "source": [
    "# The BaseEstimator class is a base class for all scikit-learn estimators, which provides default implementations for common methods like get_params() and set_params().\n",
    "from sklearn.base import BaseEstimator\n",
    "\n",
    "'''\n",
    "**\n",
    "     This classifier can be useful as a baseline for comparison with more complex models\n",
    "**\n",
    "- binary classifier that always predicts that an input does not contain the digit 5\n",
    "'''\n",
    "class Never5Classifier(BaseEstimator):\n",
    "    # method does nothing\n",
    "    def fit(self, X, y=None):\n",
    "        pass\n",
    "    # Never5Classifier classifier always predicts that an input does not contain the digit 5, regardless of its actual content.\n",
    "    #  returned array contains boolean values.\n",
    "    def predict(self, X):\n",
    "        return np.zeros((len(X), 1), dtype=bool)"
   ]
  },
  {
   "cell_type": "code",
   "execution_count": 26,
   "id": "5a027c13-112c-4759-a0de-23e02c8a038c",
   "metadata": {},
   "outputs": [
    {
     "data": {
      "text/plain": [
       "array([0.91125, 0.90855, 0.90915])"
      ]
     },
     "execution_count": 26,
     "metadata": {},
     "output_type": "execute_result"
    }
   ],
   "source": [
    "never_5_clf = Never5Classifier()\n",
    "cross_val_score(never_5_clf, X_train, y_train_5, cv=3, scoring=\"accuracy\")"
   ]
  },
  {
   "cell_type": "markdown",
   "id": "acb78306-eee2-44ef-8f72-7e5df8b7d5ba",
   "metadata": {},
   "source": [
    "### Confusion Matrix"
   ]
  },
  {
   "cell_type": "code",
   "execution_count": 28,
   "id": "bd203a16-100b-4616-86fe-47397ae25d19",
   "metadata": {},
   "outputs": [],
   "source": [
    "from sklearn.model_selection import cross_val_predict\n",
    "\n",
    "# sgd_clf = SGDClassifier(max_iter=1000, tol=1e-3, random_state=42)\n",
    "# sgd_clf.fit(X_train, y_train_5)\n",
    "\n",
    "'''\n",
    "It's different to \"cross_val_score(sgd_clf, X_train, y_train_5, cv=3, scoring=\"accuracy\")\"\n",
    "'''\n",
    "y_train_pred = cross_val_predict(sgd_clf, X_train, y_train_5, cv=3)"
   ]
  },
  {
   "cell_type": "code",
   "execution_count": 29,
   "id": "0fdbdb08-5694-4b5a-9357-ce15aa3a0ecb",
   "metadata": {},
   "outputs": [
    {
     "data": {
      "text/plain": [
       "array([[53892,   687],\n",
       "       [ 1891,  3530]])"
      ]
     },
     "execution_count": 29,
     "metadata": {},
     "output_type": "execute_result"
    }
   ],
   "source": [
    "from sklearn.metrics import confusion_matrix\n",
    "\n",
    "confusion_matrix(y_train_5, y_train_pred)"
   ]
  },
  {
   "cell_type": "code",
   "execution_count": 30,
   "id": "cad6afe4-239e-4c8a-802f-670369105f48",
   "metadata": {
    "tags": []
   },
   "outputs": [
    {
     "data": {
      "text/plain": [
       "array([[54579,     0],\n",
       "       [    0,  5421]])"
      ]
     },
     "execution_count": 30,
     "metadata": {},
     "output_type": "execute_result"
    }
   ],
   "source": [
    "# pretend we reached perfection\n",
    "y_train_perfect_predictions = y_train_5  \n",
    "confusion_matrix(y_train_5, y_train_perfect_predictions)"
   ]
  },
  {
   "cell_type": "markdown",
   "id": "b068d23e-c3b5-479f-943c-8b9fedaa3fdf",
   "metadata": {},
   "source": [
    "### Precision"
   ]
  },
  {
   "cell_type": "code",
   "execution_count": 31,
   "id": "1250ef5f-b08e-4a46-ac69-cd195dd01ba9",
   "metadata": {},
   "outputs": [
    {
     "data": {
      "text/plain": [
       "0.8370879772350012"
      ]
     },
     "execution_count": 31,
     "metadata": {},
     "output_type": "execute_result"
    }
   ],
   "source": [
    "from sklearn.metrics import precision_score, recall_score\n",
    "\n",
    "precision_score(y_train_5, y_train_pred)"
   ]
  },
  {
   "cell_type": "code",
   "execution_count": 33,
   "id": "8d5f0ac0-998d-4dd8-8b67-a85364872d5c",
   "metadata": {},
   "outputs": [
    {
     "data": {
      "text/plain": [
       "0.8370879772350012"
      ]
     },
     "execution_count": 33,
     "metadata": {},
     "output_type": "execute_result"
    }
   ],
   "source": [
    "# Same result as 'precision_score()'\n",
    "cm = confusion_matrix(y_train_5, y_train_pred)\n",
    "cm[1, 1] / (cm[0, 1] + cm[1, 1])"
   ]
  },
  {
   "cell_type": "markdown",
   "id": "d0e505dc-8bf4-4268-9ad0-d6cbcaa1a193",
   "metadata": {},
   "source": [
    "### Recall"
   ]
  },
  {
   "cell_type": "code",
   "execution_count": 34,
   "id": "ea37b2bd-4748-4286-941f-e6ae4d3c2f8c",
   "metadata": {},
   "outputs": [
    {
     "data": {
      "text/plain": [
       "0.6511713705958311"
      ]
     },
     "execution_count": 34,
     "metadata": {},
     "output_type": "execute_result"
    }
   ],
   "source": [
    "recall_score(y_train_5, y_train_pred)"
   ]
  },
  {
   "cell_type": "code",
   "execution_count": 35,
   "id": "fc140dc9-8931-4cac-b2c1-631e7c96ae68",
   "metadata": {},
   "outputs": [
    {
     "data": {
      "text/plain": [
       "0.6511713705958311"
      ]
     },
     "execution_count": 35,
     "metadata": {},
     "output_type": "execute_result"
    }
   ],
   "source": [
    "cm[1, 1] / (cm[1, 0] + cm[1, 1])"
   ]
  },
  {
   "cell_type": "markdown",
   "id": "da8873b3-652d-4f11-bc68-5847992e6bf3",
   "metadata": {},
   "source": [
    "### F1 Score"
   ]
  },
  {
   "cell_type": "code",
   "execution_count": 36,
   "id": "b196fee0-e84f-4164-89b3-a5b58537e8ad",
   "metadata": {},
   "outputs": [
    {
     "data": {
      "text/plain": [
       "0.7325171197343846"
      ]
     },
     "execution_count": 36,
     "metadata": {},
     "output_type": "execute_result"
    }
   ],
   "source": [
    "from sklearn.metrics import f1_score\n",
    "\n",
    "f1_score(y_train_5, y_train_pred)"
   ]
  },
  {
   "cell_type": "code",
   "execution_count": 37,
   "id": "6f13e77c-1391-4553-b17c-1e4707c6aa05",
   "metadata": {},
   "outputs": [
    {
     "data": {
      "text/plain": [
       "0.7325171197343847"
      ]
     },
     "execution_count": 37,
     "metadata": {},
     "output_type": "execute_result"
    }
   ],
   "source": [
    "cm[1, 1] / (cm[1, 1] + (cm[1, 0] + cm[0, 1]) / 2)"
   ]
  },
  {
   "cell_type": "markdown",
   "id": "02f7754d-6a7f-41e7-becd-c9d68fa95a09",
   "metadata": {},
   "source": [
    "## Precision & Recall Trade-off"
   ]
  },
  {
   "cell_type": "code",
   "execution_count": 48,
   "id": "37b90ba0-071f-433a-bca4-15cae92c955e",
   "metadata": {},
   "outputs": [
    {
     "data": {
      "text/plain": [
       "array([2164.22030239])"
      ]
     },
     "execution_count": 48,
     "metadata": {},
     "output_type": "execute_result"
    }
   ],
   "source": [
    "# sgd_clf = SGDClassifier(max_iter=1000, tol=1e-3, random_state=42)\n",
    "# sgd_clf.fit(X_train, y_train_5)\n",
    "\n",
    "y_scores = sgd_clf.decision_function([some_digit])\n",
    "y_scores"
   ]
  },
  {
   "cell_type": "markdown",
   "id": "1f0efc0f-3a4a-45b3-8cfb-c74e1578f57a",
   "metadata": {},
   "source": [
    "#### Set Threshold"
   ]
  },
  {
   "cell_type": "code",
   "execution_count": 41,
   "id": "ea40ddcd-1ad1-4abe-bd20-bd38d252ebb1",
   "metadata": {},
   "outputs": [],
   "source": [
    "threshold = 0\n",
    "y_some_digit_pred = (y_scores > threshold)"
   ]
  },
  {
   "cell_type": "code",
   "execution_count": 42,
   "id": "104c154e-a1b6-4e03-b67f-1cb8e81866bc",
   "metadata": {},
   "outputs": [
    {
     "data": {
      "text/plain": [
       "array([ True])"
      ]
     },
     "execution_count": 42,
     "metadata": {},
     "output_type": "execute_result"
    }
   ],
   "source": [
    "y_some_digit_pred"
   ]
  },
  {
   "cell_type": "code",
   "execution_count": 54,
   "id": "f3ddf6be-a0d4-4580-b09f-ccc26ae0ebff",
   "metadata": {},
   "outputs": [
    {
     "data": {
      "text/plain": [
       "array([False])"
      ]
     },
     "execution_count": 54,
     "metadata": {},
     "output_type": "execute_result"
    }
   ],
   "source": [
    "threshold = 8000\n",
    "y_some_digit_pred = (y_scores > threshold)\n",
    "y_some_digit_pred"
   ]
  },
  {
   "cell_type": "code",
   "execution_count": 56,
   "id": "a254e119-a84b-4128-b728-357f98510eb0",
   "metadata": {},
   "outputs": [],
   "source": [
    "y_scores = cross_val_predict(sgd_clf, X_train, y_train_5, cv=3,\n",
    "                             method=\"decision_function\")"
   ]
  },
  {
   "cell_type": "code",
   "execution_count": 58,
   "id": "bcc6685b-6358-416f-920b-b80ae66b0141",
   "metadata": {},
   "outputs": [],
   "source": [
    "from sklearn.metrics import precision_recall_curve\n",
    "\n",
    "# Generate a values for 'precisions' / 'recalls' / 'thresholds'\n",
    "precisions, recalls, thresholds = precision_recall_curve(y_train_5, y_scores)"
   ]
  },
  {
   "cell_type": "markdown",
   "id": "f139b270-a820-4c6d-8068-fec528c393fe",
   "metadata": {},
   "source": [
    "#### With Threshold"
   ]
  },
  {
   "cell_type": "code",
   "execution_count": 67,
   "id": "1eb9a77f-3c8f-44cd-a847-ce5a036e7807",
   "metadata": {},
   "outputs": [
    {
     "name": "stdout",
     "output_type": "stream",
     "text": [
      "Saving figure precision_recall_vs_threshold_plot\n"
     ]
    },
    {
     "data": {
      "image/png": "[encoded data removed]",
      "text/plain": [
       "<Figure size 800x400 with 1 Axes>"
      ]
     },
     "metadata": {},
     "output_type": "display_data"
    }
   ],
   "source": [
    "def plot_precision_recall_vs_threshold(precisions, recalls, thresholds):\n",
    "    plt.plot(thresholds, precisions[:-1], \"b--\", label=\"Precision\", linewidth=2)\n",
    "    plt.plot(thresholds, recalls[:-1], \"g-\", label=\"Recall\", linewidth=2)\n",
    "    plt.legend(loc=\"center right\", fontsize=16) # Not shown in the book\n",
    "    plt.xlabel(\"Threshold\", fontsize=16)        # Not shown\n",
    "    plt.grid(True)                              # Not shown\n",
    "    plt.axis([-50000, 50000, 0, 1])             # Not shown\n",
    "\n",
    "\n",
    "# recall_90_precision: 0.4799852425751706\n",
    "recall_90_precision = recalls[np.argmax(precisions >= 0.90)]\n",
    "# threshold_90_precision: 3370.0194991439594\n",
    "threshold_90_precision = thresholds[np.argmax(precisions >= 0.90)]\n",
    "\n",
    "\n",
    "plt.figure(figsize=(8, 4))                                                                  # Not shown\n",
    "plot_precision_recall_vs_threshold(precisions, recalls, thresholds)\n",
    "# Vertical line using 2 points -> [x1,x2],[y1,y2]\n",
    "plt.plot([threshold_90_precision, threshold_90_precision], [0., 0.9], \"r:\")                 # Not shown\n",
    "# Top Horizontal line using 2 points -> [x1,x2],[y1,y2]\n",
    "plt.plot([-50000, threshold_90_precision], [0.9, 0.9], \"r:\")                                # Not shown\n",
    "# Bottom Horizontal line using 2 points -> [x1,x2],[y1,y2]\n",
    "plt.plot([-50000, threshold_90_precision], [recall_90_precision, recall_90_precision], \"r:\")# Not shown\n",
    "# Red Dots\n",
    "plt.plot([threshold_90_precision], [0.9], \"ro\")                                             # Not shown\n",
    "plt.plot([threshold_90_precision], [recall_90_precision], \"ro\")                             # Not shown\n",
    "save_fig(\"precision_recall_vs_threshold_plot\")                                              # Not shown\n",
    "plt.show()"
   ]
  },
  {
   "cell_type": "code",
   "execution_count": 68,
   "id": "b5342da5-cd96-4420-90c1-c18fc517483f",
   "metadata": {},
   "outputs": [
    {
     "data": {
      "text/plain": [
       "True"
      ]
     },
     "execution_count": 68,
     "metadata": {},
     "output_type": "execute_result"
    }
   ],
   "source": [
    "# y_train_pred = cross_val_predict(sgd_clf, X_train, y_train_5, cv=3)\n",
    "# y_scores = cross_val_predict(sgd_clf, X_train, y_train_5, cv=3, method=\"decision_function\")\n",
    "(y_train_pred == (y_scores > 0)).all()"
   ]
  },
  {
   "cell_type": "markdown",
   "id": "99419072-5941-4c1b-8535-c8137c927a56",
   "metadata": {},
   "source": [
    "#### Threshold Seperated"
   ]
  },
  {
   "cell_type": "code",
   "execution_count": 70,
   "id": "007adc39-672e-4e88-9b80-52fa070093fe",
   "metadata": {},
   "outputs": [
    {
     "name": "stdout",
     "output_type": "stream",
     "text": [
      "Saving figure precision_vs_recall_plot\n"
     ]
    },
    {
     "data": {
      "image/png": "[encoded data removed]",
      "text/plain": [
       "<Figure size 800x600 with 1 Axes>"
      ]
     },
     "metadata": {},
     "output_type": "display_data"
    }
   ],
   "source": [
    "def plot_precision_vs_recall(precisions, recalls):\n",
    "    plt.plot(recalls, precisions, \"b-\", linewidth=2)\n",
    "    plt.xlabel(\"Recall\", fontsize=16)\n",
    "    plt.ylabel(\"Precision\", fontsize=16)\n",
    "    plt.axis([0, 1, 0, 1])\n",
    "    plt.grid(True)\n",
    "\n",
    "plt.figure(figsize=(8, 6))\n",
    "# precisions, recalls, thresholds = precision_recall_curve(y_train_5, y_scores)\n",
    "plot_precision_vs_recall(precisions, recalls)\n",
    "# recall_90_precision: 0.4799852425751706\n",
    "# recall_90_precision = recalls[np.argmax(precisions >= 0.90)]\n",
    "# Vertical Dotted Line\n",
    "plt.plot([recall_90_precision, recall_90_precision], [0., 0.9], \"r:\")\n",
    "# Horizontal Dotted Line\n",
    "plt.plot([0.0, recall_90_precision], [0.9, 0.9], \"r:\")\n",
    "# Red Dot\n",
    "plt.plot([recall_90_precision], [0.9], \"ro\")\n",
    "save_fig(\"precision_vs_recall_plot\")\n",
    "plt.show()"
   ]
  },
  {
   "cell_type": "code",
   "execution_count": 73,
   "id": "7ab04a14-5541-4d51-8bc2-38e363c45971",
   "metadata": {},
   "outputs": [
    {
     "data": {
      "text/plain": [
       "3370.0194991439594"
      ]
     },
     "execution_count": 73,
     "metadata": {},
     "output_type": "execute_result"
    }
   ],
   "source": [
    "threshold_90_precision = thresholds[np.argmax(precisions >= 0.90)]\n",
    "threshold_90_precision"
   ]
  },
  {
   "cell_type": "markdown",
   "id": "3a3003f3-0417-40a9-829a-328e619d76d1",
   "metadata": {},
   "source": [
    "#### Values with Threshold"
   ]
  },
  {
   "cell_type": "code",
   "execution_count": 75,
   "id": "207cc296-89b7-4c7d-936d-af7403f4f6b7",
   "metadata": {},
   "outputs": [],
   "source": [
    "# y_scores = array([  1200.93051237, -26883.79202424, -33072.03475406, ...,  13272.12718981,  -7258.47203373, -16877.50840447])\n",
    "# y_scores = cross_val_predict(sgd_clf, X_train, y_train_5, cv=3,method=\"decision_function\")\n",
    "y_train_pred_90 = (y_scores >= threshold_90_precision)"
   ]
  },
  {
   "cell_type": "code",
   "execution_count": 76,
   "id": "b9ef5d5c-e91e-43f4-afc4-a3166db297fe",
   "metadata": {},
   "outputs": [
    {
     "data": {
      "text/plain": [
       "0.9000345901072293"
      ]
     },
     "execution_count": 76,
     "metadata": {},
     "output_type": "execute_result"
    }
   ],
   "source": [
    "precision_score(y_train_5, y_train_pred_90)"
   ]
  },
  {
   "cell_type": "code",
   "execution_count": 77,
   "id": "0c64d7c8-c307-44bf-b893-591c2994364a",
   "metadata": {},
   "outputs": [
    {
     "data": {
      "text/plain": [
       "0.4799852425751706"
      ]
     },
     "execution_count": 77,
     "metadata": {},
     "output_type": "execute_result"
    }
   ],
   "source": [
    "recall_score(y_train_5, y_train_pred_90)"
   ]
  }
 ],
 "metadata": {
  "kernelspec": {
   "display_name": "Python 3 (ipykernel)",
   "language": "python",
   "name": "python3"
  },
  "language_info": {
   "codemirror_mode": {
    "name": "ipython",
    "version": 3
   },
   "file_extension": ".py",
   "mimetype": "text/x-python",
   "name": "python",
   "nbconvert_exporter": "python",
   "pygments_lexer": "ipython3",
   "version": "3.9.12"
  }
 },
 "nbformat": 4,
 "nbformat_minor": 5
}
